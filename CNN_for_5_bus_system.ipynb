{
  "cells": [
    {
      "cell_type": "markdown",
      "metadata": {
        "id": "5rEzz9sb3z_j"
      },
      "source": [
        "\n",
        "# CNN for Solving a 5-Bus Power System Problem\n",
        "\n",
        "This Jupyter Notebook implements a simple Convolutional Neural Network (CNN) using TensorFlow/Keras to solve a 5-bus power system problem. The model is trained to predict power flow or bus voltage magnitudes based on input features such as load and generation data.\n",
        "\n",
        "## Table of Contents:\n",
        "1. [Load the 5-bus power system from pandapower](#step-1-load-the-5-bus-power-system-from-pandapower)\n",
        "2. [Extract relevant input features from the power flow analysis](#step-2-extract-relevant-input-features-from-the-power-flow-analysis)\n",
        "3. [Define a CNN model with a three-layer structure](#step-3-define-a-cnn-model-with-three-hidden-layers)\n",
        "4. [Train the model using power system data](#step-4-train-the-model-using-power-system-data)\n",
        "5. [Predict results for new input data](#step-5-predict-results-for-new-input-data)\n",
        "6. [Compare predictions and Visualize model performance](#step-6-compare-predictions-for-different-training-epochs-and-filter-sizes)"
      ]
    },
    {
      "cell_type": "code",
      "execution_count": null,
      "metadata": {
        "colab": {
          "base_uri": "https://localhost:8080/"
        },
        "id": "sqfmcbL64To6",
        "outputId": "cfe27b79-adb4-4182-c432-b3761e24c69f"
      },
      "outputs": [],
      "source": [
        "# Install required packages\n",
        "!pip install pandapower tensorflow matplotlib numpy"
      ]
    },
    {
      "cell_type": "code",
      "execution_count": null,
      "metadata": {
        "id": "rr-NGt6F3z_k"
      },
      "outputs": [],
      "source": [
        "import pandapower as pp\n",
        "import pandas as pd\n",
        "import pandapower.networks as nw\n",
        "import pandapower.plotting as pplot\n",
        "import matplotlib.pyplot as plt\n",
        "import numpy as np\n",
        "import tensorflow as tf\n",
        "from tensorflow import keras\n",
        "from tensorflow.keras import layers"
      ]
    },
    {
      "cell_type": "markdown",
      "metadata": {
        "id": "wztjTnCT3z_l"
      },
      "source": [
        "## Step 1. Load the 5-bus power system from pandapower\n",
        "CASE5  Power flow data for modified 5 bus, 5 gen case based on PJM 5-bus system\n",
        "\n",
        "*F.Li and R.Bo, \"Small Test Systems for Power System Economic Studies\", DOI: [10.1109/PES.2010.5589973](https://doi.org/10.1109/PES.2010.5589973)*\n",
        "\n",
        "![image-2.png](attachment:image-2.png)"
      ]
    },
    {
      "cell_type": "code",
      "execution_count": null,
      "metadata": {
        "colab": {
          "base_uri": "https://localhost:8080/"
        },
        "id": "XnOKpTVK3z_l",
        "outputId": "bf9d2145-d64c-443b-bf9a-951173169630"
      },
      "outputs": [],
      "source": [
        "# Load the 5-bus power system network\n",
        "net = nw.case5()\n",
        "print(net)"
      ]
    },
    {
      "cell_type": "code",
      "execution_count": null,
      "metadata": {
        "colab": {
          "base_uri": "https://localhost:8080/"
        },
        "id": "MquG4D1f3z_l",
        "outputId": "f34f40e6-6787-4115-cf4a-05157c8bb49d"
      },
      "outputs": [],
      "source": [
        "# Run power flow analysis\n",
        "net.bus['max_vm_pu'] = 1.10\n",
        "net.bus['min_vm_pu'] = 0.90\n",
        "pp.runpp(net)\n",
        "\n",
        "# Check available columns for loads and generators\n",
        "print(\"Load columns:\", net.load.columns)\n",
        "print(\"Gen columns:\", net.gen.columns)"
      ]
    },
    {
      "cell_type": "markdown",
      "metadata": {
        "id": "TmRBDPw-3z_m"
      },
      "source": [
        "## Step 2. Extract relevant input features from the power flow analysis."
      ]
    },
    {
      "cell_type": "code",
      "execution_count": null,
      "metadata": {
        "id": "oOkUlzSp3z_m"
      },
      "outputs": [],
      "source": [
        "# Extract input features: voltage magnitude, load, and generation data\n",
        "X = np.column_stack([\n",
        "    net.res_bus.vm_pu.values,   # Bus voltage magnitudes\n",
        "    net.load.p_mw.reindex(net.bus.index, fill_value=0).values,  # Load active power\n",
        "    net.load.q_mvar.reindex(net.bus.index, fill_value=0).values if 'q_mvar' in net.load else np.zeros(len(net.bus)), # Load reactive power (if available)\n",
        "    net.gen.p_mw.reindex(net.bus.index, fill_value=0).values,    # Generator active power\n",
        "    net.gen.q_mvar.reindex(net.bus.index, fill_value=0).values if 'q_mvar' in net.gen else np.zeros(len(net.bus))   # Generator reactive power (if available)\n",
        "])\n",
        "X = X.reshape((X.shape[0], X.shape[1], 1))  # Reshape for CNN\n",
        "\n",
        "# Output: bus voltage magnitudes and  power flows\n",
        "Y_voltage = net.res_bus.vm_pu.values.reshape(-1, 1)\n",
        "Y_power_flow = np.column_stack([\n",
        "    net.res_line.p_from_mw.values,\n",
        "    net.res_line.q_from_mvar.values\n",
        "])"
      ]
    },
    {
      "cell_type": "markdown",
      "metadata": {
        "id": "UsyBIqEu3z_m"
      },
      "source": [
        "## Step 3. Define a CNN model with three hidden layers\n",
        "### Bus voltage\n",
        "- Model 1 (epochs=50, 24 filters),\n",
        "   - one input layer (12 input nodes);\n",
        "   -  three hidden layers (24, 24 and 12 nodes, respectively);\n",
        "   -  one single-node output layer.\n",
        "- Model 2 (epochs=50, 240 filters)\n",
        "\n",
        "- Model 3 (epochs=200, 240 filters)\n",
        "### Power Flow\n",
        "- Model 4 (epochs=200, 24 filters)\n",
        "\n",
        "<figure>\n",
        "  <img src=\"https://dfzljdn9uc3pi.cloudfront.net/2023/cs-1395/1/fig-1-2x.jpg\" width=\"450\">\n",
        "</figure>\n",
        "\n"
      ]
    },
    {
      "cell_type": "code",
      "execution_count": null,
      "metadata": {
        "colab": {
          "base_uri": "https://localhost:8080/"
        },
        "id": "BaPFLdcI3z_n",
        "outputId": "fd5f746e-c03f-4f09-9800-5c6f2ca84c8d"
      },
      "outputs": [],
      "source": [
        "# Model 1 (epochs=50, 24 filters)\n",
        "model_50 = keras.Sequential([\n",
        "    layers.Conv1D(filters=24, kernel_size=2, activation='relu', input_shape=(X.shape[1], 1)),\n",
        "    layers.Conv1D(filters=24, kernel_size=2, activation='relu'),\n",
        "    layers.Conv1D(filters=12, kernel_size=2, activation='relu'),\n",
        "    layers.Flatten(),\n",
        "    layers.Dense(12, activation='relu'),\n",
        "    layers.Dense(1, activation='linear')  # Output layer for regression\n",
        "])\n",
        "model_50.compile(optimizer='adam', loss='mse', metrics=['mae'])\n",
        "\n",
        "# Model 2 (epochs=50, 240 filters)\n",
        "model_50_v2 = keras.Sequential([\n",
        "    layers.Conv1D(filters=240, kernel_size=2, activation='relu', input_shape=(X.shape[1], 1)),\n",
        "    layers.Conv1D(filters=240, kernel_size=2, activation='relu'),\n",
        "    layers.Conv1D(filters=120, kernel_size=2, activation='relu'),\n",
        "    layers.Flatten(),\n",
        "    layers.Dense(12, activation='relu'),\n",
        "    layers.Dense(1, activation='linear')  # Output layer for regression\n",
        "])\n",
        "model_50_v2.compile(optimizer='adam', loss='mse', metrics=['mae'])\n",
        "# Model 3 (epochs=200, 240 filters)\n",
        "model_200 = keras.Sequential([\n",
        "    layers.Conv1D(filters=240, kernel_size=2, activation='relu', input_shape=(X.shape[1], 1)),\n",
        "    layers.Conv1D(filters=240, kernel_size=2, activation='relu'),\n",
        "    layers.Conv1D(filters=120, kernel_size=2, activation='relu'),\n",
        "    layers.Flatten(),\n",
        "    layers.Dense(12, activation='relu'),\n",
        "    layers.Dense(1, activation='linear')  # Output layer for regression\n",
        "])\n",
        "model_200.compile(optimizer='adam', loss='mse', metrics=['mae'])\n",
        "\n",
        "# Model_Power_Flow: Model 4 (epochs=200, 24 filters)\n",
        "model_power_flow = keras.Sequential([\n",
        "    layers.Conv1D(filters=24, kernel_size=2, activation='relu', input_shape=(X.shape[1], 1)),\n",
        "    layers.Conv1D(filters=24, kernel_size=2, activation='relu'),\n",
        "    layers.Conv1D(filters=12, kernel_size=2, activation='relu'),\n",
        "    layers.Flatten(),\n",
        "    layers.Dense(12, activation='relu'),\n",
        "    layers.Dense(2, activation='linear')  # Two outputs for p_mw and q_mvar\n",
        "])\n",
        "model_power_flow.compile(optimizer='adam', loss='mse', metrics=['mae'])"
      ]
    },
    {
      "cell_type": "markdown",
      "metadata": {
        "id": "w2FW0hek3z_n"
      },
      "source": [
        "## Step 4. Train the model using power system data"
      ]
    },
    {
      "cell_type": "code",
      "execution_count": null,
      "metadata": {
        "colab": {
          "base_uri": "https://localhost:8080/"
        },
        "id": "ZS89TWvG3z_n",
        "outputId": "414426f6-2cfa-47e1-e953-c050faccbcec"
      },
      "outputs": [],
      "source": [
        "history_50 = model_50.fit(X, Y_voltage, epochs=50, batch_size=16, validation_split=0.2)\n",
        "history_50_v2 = model_50_v2.fit(X, Y_voltage, epochs=50, batch_size=16, validation_split=0.2)\n",
        "history_200 = model_200.fit(X, Y_voltage, epochs=200, batch_size=16, validation_split=0.2)\n",
        "model_power_flow.fit(X, Y_power_flow, epochs=200, batch_size=16, validation_split=0.2)"
      ]
    },
    {
      "cell_type": "markdown",
      "metadata": {
        "id": "gNOx73Ao3z_n"
      },
      "source": [
        "## Step 5. Predict results for new input data"
      ]
    },
    {
      "cell_type": "code",
      "execution_count": null,
      "metadata": {
        "colab": {
          "base_uri": "https://localhost:8080/"
        },
        "id": "NTDP44KD3z_n",
        "outputId": "af406ab9-3a91-46b0-974c-b953014cee39"
      },
      "outputs": [],
      "source": [
        "pp.runpp(net)  # Ensure power flow is updated\n",
        "X_test = np.column_stack([\n",
        "    net.res_bus.vm_pu.values,\n",
        "    net.load.p_mw.reindex(net.bus.index, fill_value=0).values,\n",
        "    net.load.q_mvar.reindex(net.bus.index, fill_value=0).values if 'q_mvar' in net.load else np.zeros(len(net.bus)),\n",
        "    net.gen.p_mw.reindex(net.bus.index, fill_value=0).values,\n",
        "    net.gen.q_mvar.reindex(net.bus.index, fill_value=0).values if 'q_mvar' in net.gen else np.zeros(len(net.bus))\n",
        "]).reshape((X.shape[0], X.shape[1], 1))\n",
        "\n",
        "predictions_50 = model_50.predict(X_test)\n",
        "predictions_50_v2 = model_50_v2.predict(X_test)\n",
        "predictions_200 = model_200.predict(X_test)\n",
        "predictions_power_flow = model_power_flow.predict(X_test)\n"
      ]
    },
    {
      "cell_type": "markdown",
      "metadata": {
        "id": "d12IIPtP3z_n"
      },
      "source": [
        "## Step 6. Compare predictions for different training epochs and filter sizes."
      ]
    },
    {
      "cell_type": "code",
      "execution_count": null,
      "metadata": {
        "colab": {
          "base_uri": "https://localhost:8080/",
          "height": 755
        },
        "id": "rcU0aNgV3z_n",
        "outputId": "fe4a9801-5c86-4d2a-e56b-4a3d563e7867"
      },
      "outputs": [],
      "source": [
        "plt.figure(figsize=(10, 5))\n",
        "plt.plot(net.res_bus.vm_pu.values, 'bo--', label='Actual Voltage Magnitudes')\n",
        "plt.plot(predictions_50.flatten(), 'r*-', label='Predicted (Epochs=50, 24 filters)')\n",
        "plt.plot(predictions_50_v2.flatten(), 'g^-', label='Predicted (Epochs=50, 240 filters)')\n",
        "plt.plot(predictions_200.flatten(), 'y+-', label='Predicted (Epochs=200, 240 filters)')\n",
        "plt.xlabel('Bus Index')\n",
        "plt.ylabel('Voltage Magnitude (pu)')\n",
        "plt.title('Comparison of Actual and Predicted Voltage Magnitudes for Different Epochs and Filters')\n",
        "# Set x-axis labels as 1, 2, 3, 4, 5 for bus indices\n",
        "plt.xticks(ticks=[0, 1, 2, 3, 4], labels=[1, 2, 3, 4, 5])\n",
        "\n",
        "plt.legend()\n",
        "plt.show()\n",
        "\n",
        "\n",
        "print(\"Predictions for Epochs=50 (24 filters):\", predictions_50)\n",
        "print(\"Predictions for Epochs=50 (240 filters):\", predictions_50_v2)\n",
        "print(\"Predictions for Epochs=200 (240 filters):\", predictions_200)"
      ]
    },
    {
      "cell_type": "code",
      "execution_count": null,
      "metadata": {
        "colab": {
          "base_uri": "https://localhost:8080/",
          "height": 1000
        },
        "id": "cMdW2Yzz3z_n",
        "outputId": "f545c8ba-ac50-434c-802d-06a4efaf1982"
      },
      "outputs": [],
      "source": [
        "plt.figure(figsize=(10, 5))\n",
        "plt.plot(net.res_line.p_from_mw.values[:5], 'bo--', label='Actual P (MW)')\n",
        "plt.plot(predictions_power_flow[:, 0], 'r*-', label='Predicted P (MW)')\n",
        "plt.xlabel('Line Index')\n",
        "plt.ylabel('Active Power Flow (MW)')\n",
        "plt.legend()\n",
        "plt.title('Active Power Flow Prediction')\n",
        "plt.show()\n",
        "\n",
        "plt.figure(figsize=(10, 5))\n",
        "plt.plot(net.res_line.q_from_mvar.values[:5], 'bo--', label='Actual Q (MVAR)')\n",
        "plt.plot(predictions_power_flow[:, 1], 'r*-', label='Predicted Q (MVAR)')\n",
        "plt.xlabel('Line Index')\n",
        "plt.ylabel('Reactive Power Flow (MVAR)')\n",
        "plt.legend()\n",
        "plt.title('Reactive Power Flow Prediction')\n",
        "plt.show()\n",
        "\n",
        "# Print Predictions\n",
        "print(\"Predicted Active and Reactive Power Flows:\", predictions_power_flow)"
      ]
    }
  ],
  "metadata": {
    "colab": {
      "provenance": []
    },
    "kernelspec": {
      "display_name": "agvis",
      "language": "python",
      "name": "python3"
    },
    "language_info": {
      "codemirror_mode": {
        "name": "ipython",
        "version": 3
      },
      "file_extension": ".py",
      "mimetype": "text/x-python",
      "name": "python",
      "nbconvert_exporter": "python",
      "pygments_lexer": "ipython3",
      "version": "3.9.21"
    }
  },
  "nbformat": 4,
  "nbformat_minor": 0
}
