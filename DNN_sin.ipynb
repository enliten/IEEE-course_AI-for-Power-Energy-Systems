{
 "cells": [
  {
   "cell_type": "code",
   "execution_count": null,
   "id": "e9b6ac49",
   "metadata": {},
   "outputs": [],
   "source": [
    "# --- Imports ---\n",
    "# Import necessary libraries for numerical computing, deep learning, and plotting\n",
    "import numpy as np\n",
    "import tensorflow as tf\n",
    "from tensorflow import keras\n",
    "from tensorflow.keras import layers\n",
    "import matplotlib.pyplot as plt"
   ]
  },
  {
   "cell_type": "markdown",
   "id": "06039cad",
   "metadata": {},
   "source": [
    "## 1. Generate Training Data\n",
    "\n",
    "We aim to approximate the function **f(x) = sin(x)** using a simple Deep Neural Network (DNN).  \n",
    "First, we create 100 evenly spaced points in the range \\([0, 2\\pi]\\) and compute their sine values.\n"
   ]
  },
  {
   "cell_type": "code",
   "execution_count": null,
   "id": "514b837d",
   "metadata": {},
   "outputs": [],
   "source": [
    "# Generate training data: x in [0, 2π], y = sin(x)\n",
    "x_train = np.linspace(0, 2 * np.pi, 100).reshape(-1, 1)\n",
    "y_train = np.sin(x_train)"
   ]
  },
  {
   "cell_type": "markdown",
   "id": "a890cf47",
   "metadata": {},
   "source": [
    "## 2. Define the DNN Model\n",
    "\n",
    "We use TensorFlow/Keras to build a feedforward neural network with:\n",
    "- An input layer that takes scalar values (shape = 1)\n",
    "- Two hidden layers with 32 neurons and ReLU activation\n",
    "- A linear output layer that outputs a single value\n"
   ]
  },
  {
   "cell_type": "code",
   "execution_count": null,
   "id": "ef021942",
   "metadata": {},
   "outputs": [],
   "source": [
    "model = keras.Sequential([\n",
    "    layers.Dense(32, activation='relu', input_shape=(1,)),  # Input layer\n",
    "    layers.Dense(32, activation='relu'),                    # Hidden layer\n",
    "    layers.Dense(1, activation='linear')                    # Output layer\n",
    "])"
   ]
  },
  {
   "cell_type": "markdown",
   "id": "18d514b4",
   "metadata": {},
   "source": [
    "## 3. Compile the Model\n",
    "\n",
    "We compile the model using:\n",
    "- **Adam optimizer** for efficient training\n",
    "- **Mean Squared Error (MSE)** as the loss function\n",
    "- **Mean Absolute Error (MAE)** as an additional evaluation metric\n"
   ]
  },
  {
   "cell_type": "code",
   "execution_count": null,
   "id": "7a71653f",
   "metadata": {},
   "outputs": [],
   "source": [
    "model.compile(optimizer='adam', loss='mse', metrics=['mae'])"
   ]
  },
  {
   "cell_type": "markdown",
   "id": "ab75db9d",
   "metadata": {},
   "source": [
    "## 4. Train the Model\n",
    "\n",
    "We train the model on the generated data for 300 epochs with a batch size of 16.\n",
    "Verbose is set to 0 to suppress output during training.\n"
   ]
  },
  {
   "cell_type": "code",
   "execution_count": null,
   "id": "57b88cde",
   "metadata": {},
   "outputs": [],
   "source": [
    "model.fit(x_train, y_train, epochs=300, batch_size=16, verbose=0)"
   ]
  },
  {
   "cell_type": "markdown",
   "id": "9912c1ce",
   "metadata": {},
   "source": [
    "## 5. Test the Model\n",
    "\n",
    "We generate the same range of input values for testing and compare:\n",
    "- The **true values** of \\( \\sin(x) \\)\n",
    "- The **predicted values** from the trained DNN\n"
   ]
  },
  {
   "cell_type": "code",
   "execution_count": null,
   "id": "61449d7f",
   "metadata": {},
   "outputs": [],
   "source": [
    "x_test = np.linspace(0, 2 * np.pi, 100).reshape(-1, 1)\n",
    "y_true = np.sin(x_test)\n",
    "y_pred = model.predict(x_test)"
   ]
  },
  {
   "cell_type": "markdown",
   "id": "088dc6ef",
   "metadata": {},
   "source": [
    "## 6. Plot the Results\n",
    "\n",
    "We visualize how well the DNN approximates the sine function:\n",
    "- **Blue solid line**: True function \\( \\sin(x) \\)\n",
    "- **Red dashed line**: DNN-predicted output\n"
   ]
  },
  {
   "cell_type": "code",
   "execution_count": null,
   "id": "123d3e00",
   "metadata": {},
   "outputs": [],
   "source": [
    "plt.figure(figsize=(8, 5))\n",
    "plt.plot(x_test, y_true, 'b-', label='True f(x) = sin(x)')\n",
    "plt.plot(x_test, y_pred, 'r--', label='Predicted by DNN')\n",
    "plt.xlabel('x')\n",
    "plt.ylabel('f(x)')\n",
    "plt.title('DNN Approximation of f(x) = sin(x)')\n",
    "plt.legend()\n",
    "plt.grid(True)\n",
    "plt.show()"
   ]
  }
 ],
 "metadata": {
  "language_info": {
   "name": "python"
  }
 },
 "nbformat": 4,
 "nbformat_minor": 5
}
