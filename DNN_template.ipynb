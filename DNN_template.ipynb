{
  "cells": [
    {
      "cell_type": "code",
      "execution_count": 25,
      "id": "e9b6ac49",
      "metadata": {
        "id": "e9b6ac49"
      },
      "outputs": [],
      "source": [
        "# --- Imports ---\n",
        "# Import necessary libraries for numerical computing, deep learning, and plotting\n",
        "import numpy as np\n",
        "import tensorflow as tf\n",
        "from tensorflow import keras\n",
        "from tensorflow.keras import layers\n",
        "import matplotlib.pyplot as plt"
      ]
    },
    {
      "cell_type": "markdown",
      "id": "f88de234",
      "metadata": {
        "id": "f88de234"
      },
      "source": [
        "## 0. Initial Setting"
      ]
    },
    {
      "cell_type": "code",
      "execution_count": 26,
      "id": "abcc8098",
      "metadata": {
        "colab": {
          "base_uri": "https://localhost:8080/"
        },
        "id": "abcc8098",
        "outputId": "28f4e22e-2946-4baf-e4fe-54c58908fbc9"
      },
      "outputs": [
        {
          "name": "stdout",
          "output_type": "stream",
          "text": [
            "Initial settings loaded.\n"
          ]
        }
      ],
      "source": [
        "\n",
        "# ==== Initial Controls ====\n",
        "\n",
        "# Function choice: one of {\"sin\", \"cos\", \"exp\", \"log\", \"poly3\", \"custom\"}\n",
        "FUNC_TYPE = \"poly3\"\n",
        "\n",
        "# For poly3, coefficients for y = a*x^3 + b*x^2 + c*x + d\n",
        "POLY3_COEFFS = {\"a\": 0.2, \"b\": -0.5, \"c\": 0.3, \"d\": 0.0}\n",
        "\n",
        "# For custom, define a lambda function\n",
        "CUSTOM_FUNC = lambda x: x\n",
        "\n",
        "# Sampling number\n",
        "N_SAMPLES = 1028\n",
        "\n",
        "# Model hyperparameters\n",
        "EPOCHS = 300\n",
        "INPUT_SIZE = 1\n",
        "HIDDEN_LAYERS = [64, 32]    # hidden layers could be modified as [64, 32, 128] to add the 3rd hidden layer with 128 neurons\n",
        "OUTPUT_SIZE = 1\n",
        "\n",
        "print(\"Initial settings loaded.\")\n"
      ]
    },
    {
      "cell_type": "markdown",
      "id": "06039cad",
      "metadata": {
        "id": "06039cad"
      },
      "source": [
        "## 1. Generate Training Data\n",
        "\n",
        "We aim to approximate the function **f(x) = sin(x)** using a simple Deep Neural Network (DNN).  \n",
        "First, we create 100 evenly spaced points in the range \\([0, 2\\pi]\\) and compute their sine values.\n"
      ]
    },
    {
      "cell_type": "code",
      "execution_count": 27,
      "id": "514b837d",
      "metadata": {
        "id": "514b837d"
      },
      "outputs": [],
      "source": [
        "\n",
        "import numpy as np\n",
        "\n",
        "def make_function(func_type: str):\n",
        "    if func_type == \"sin\":\n",
        "        return np.sin, (0, 2*np.pi)\n",
        "    if func_type == \"cos\":\n",
        "        return np.cos, (0, 2*np.pi)\n",
        "    if func_type == \"exp\":\n",
        "        return np.exp, (0, 10)\n",
        "    if func_type == \"log\":\n",
        "        return np.log, (0.01, 10)\n",
        "    if func_type == \"poly3\":\n",
        "        a, b, c, d = POLY3_COEFFS[\"a\"], POLY3_COEFFS[\"b\"], POLY3_COEFFS[\"c\"], POLY3_COEFFS[\"d\"]\n",
        "        return (lambda x: a*x**3 + b*x**2 + c*x + d), (-3, 3)\n",
        "    if func_type == \"custom\":\n",
        "        return CUSTOM_FUNC, (-5, 5)\n",
        "    raise ValueError(f\"Unknown FUNC_TYPE: {func_type}\")\n",
        "\n",
        "f, (x_min, x_max) = make_function(FUNC_TYPE)\n",
        "\n",
        "# Use N_SAMPLES instead of fixed 1028\n",
        "x_train = np.linspace(x_min, x_max, N_SAMPLES).reshape(-1, 1)\n",
        "y_train = f(x_train)\n"
      ]
    },
    {
      "cell_type": "markdown",
      "id": "a890cf47",
      "metadata": {
        "id": "a890cf47"
      },
      "source": [
        "## 2. Define the DNN Model\n",
        "\n",
        "We use TensorFlow/Keras to build a feedforward neural network with:\n",
        "- An input layer that takes scalar values (shape = 1)\n",
        "- Two hidden layers with 64 and 32 neurons and ReLU activation\n",
        "- A linear output layer that outputs a single value\n"
      ]
    },
    {
      "cell_type": "code",
      "execution_count": 28,
      "id": "ef021942",
      "metadata": {
        "id": "ef021942"
      },
      "outputs": [],
      "source": [
        "# Build model using variables from Section 0\n",
        "model = keras.Sequential()\n",
        "keras.Input(shape=(INPUT_SIZE,)),                         # Input layer\n",
        "for h in HIDDEN_LAYERS[0:]:\n",
        "    model.add(layers.Dense(h, activation='relu'))         # Hidden layers\n",
        "model.add(layers.Dense(OUTPUT_SIZE, activation='linear')) # Output layer"
      ]
    },
    {
      "cell_type": "markdown",
      "id": "18d514b4",
      "metadata": {
        "id": "18d514b4"
      },
      "source": [
        "## 3. Compile the Model\n",
        "\n",
        "We compile the model using:\n",
        "- **Adam optimizer** for efficient training\n",
        "- **Mean Squared Error (MSE)** as the loss function\n",
        "- **Mean Absolute Error (MAE)** as an additional evaluation metric\n"
      ]
    },
    {
      "cell_type": "code",
      "execution_count": 29,
      "id": "7a71653f",
      "metadata": {
        "id": "7a71653f"
      },
      "outputs": [],
      "source": [
        "model.compile(optimizer='adam', loss='mse', metrics=['mae'])"
      ]
    },
    {
      "cell_type": "markdown",
      "id": "ab75db9d",
      "metadata": {
        "id": "ab75db9d"
      },
      "source": [
        "## 4. Train the Model\n",
        "\n",
        "We train the model on the generated data for 300 epochs with a batch size of 16. (`EPOCHS = 300` from section \"0. Initial Setting\")\n",
        "\n",
        "Verbose is set to 0 to suppress output during training.\n"
      ]
    },
    {
      "cell_type": "code",
      "execution_count": 30,
      "id": "57b88cde",
      "metadata": {
        "id": "57b88cde"
      },
      "outputs": [],
      "source": [
        "# Train the model using parameters from Section 0\n",
        "history = model.fit(x_train, y_train,\n",
        "                    epochs=EPOCHS,\n",
        "                    batch_size=16,\n",
        "                    verbose=0)\n",
        "                                # verbose=0 → silent mode, no output\n",
        "                                # verbose=1 → one line per epoch (progress bar)\n",
        "                                # verbose=2 → one line per epoch, no progress bar"
      ]
    },
    {
      "cell_type": "markdown",
      "id": "9912c1ce",
      "metadata": {
        "id": "9912c1ce"
      },
      "source": [
        "## 5. Test the Model\n",
        "\n",
        "We generate the same range of input values for testing and compare:\n",
        "- The **true values** of the selected function\n",
        "- The **predicted values** from the trained DNN\n"
      ]
    },
    {
      "cell_type": "code",
      "execution_count": 31,
      "id": "61449d7f",
      "metadata": {
        "colab": {
          "base_uri": "https://localhost:8080/"
        },
        "id": "61449d7f",
        "outputId": "217c42b3-de03-4d35-fe13-8c0ecdc44fe3"
      },
      "outputs": [
        {
          "name": "stdout",
          "output_type": "stream",
          "text": [
            "\u001b[1m4/4\u001b[0m \u001b[32m━━━━━━━━━━━━━━━━━━━━\u001b[0m\u001b[37m\u001b[0m \u001b[1m0s\u001b[0m 7ms/step \n"
          ]
        }
      ],
      "source": [
        "\n",
        "# Generate test data based on the same function setting\n",
        "f, (x_min, x_max) = make_function(FUNC_TYPE)\n",
        "x_test = np.linspace(x_min, x_max, 100).reshape(-1, 1)\n",
        "y_true = f(x_test)\n",
        "y_pred = model.predict(x_test)\n"
      ]
    },
    {
      "cell_type": "markdown",
      "id": "088dc6ef",
      "metadata": {
        "id": "088dc6ef"
      },
      "source": [
        "## 6. Plot the Results\n",
        "\n",
        "We visualize how well the DNN approximates the selected function:\n",
        "- **Blue solid line**: True selected function\n",
        "- **Red dashed line**: DNN-predicted output\n"
      ]
    },
    {
      "cell_type": "code",
      "execution_count": 32,
      "id": "123d3e00",
      "metadata": {
        "colab": {
          "base_uri": "https://localhost:8080/",
          "height": 487
        },
        "id": "123d3e00",
        "outputId": "d93bcedd-02ce-4d57-c31b-87f3aa9b873f"
      },
      "outputs": [
        {
          "data": {
            "image/png": "[encoded data removed]",
            "text/plain": [
              "<Figure size 800x500 with 1 Axes>"
            ]
          },
          "metadata": {},
          "output_type": "display_data"
        }
      ],
      "source": [
        "plt.figure(figsize=(8, 5))\n",
        "plt.plot(x_test, y_true, 'b-', label='True selected function f(x)')\n",
        "plt.plot(x_test, y_pred, 'r--', label='Predicted by DNN')\n",
        "plt.xlabel('x')\n",
        "plt.ylabel('f(x)')\n",
        "plt.title('DNN Approximation of selected function f(x)')\n",
        "plt.legend()\n",
        "plt.grid(True)\n",
        "plt.show()"
      ]
    }
  ],
  "metadata": {
    "colab": {
      "provenance": []
    },
    "kernelspec": {
      "display_name": "myenv",
      "language": "python",
      "name": "python3"
    },
    "language_info": {
      "codemirror_mode": {
        "name": "ipython",
        "version": 3
      },
      "file_extension": ".py",
      "mimetype": "text/x-python",
      "name": "python",
      "nbconvert_exporter": "python",
      "pygments_lexer": "ipython3",
      "version": "3.12.2"
    }
  },
  "nbformat": 4,
  "nbformat_minor": 5
}
